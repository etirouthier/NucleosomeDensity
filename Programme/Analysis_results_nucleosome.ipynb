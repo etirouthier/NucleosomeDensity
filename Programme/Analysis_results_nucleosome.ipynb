{
 "cells": [
  {
   "cell_type": "code",
   "execution_count": 1,
   "metadata": {},
   "outputs": [],
   "source": [
    "import numpy as np\n",
    "import pandas as pd\n",
    "import matplotlib.pyplot as plt\n",
    "%matplotlib notebook\n",
    "import seaborn as sns\n",
    "sns.set()\n",
    "import h5py\n",
    "import matplotlib.lines as mlines\n",
    "import gzip\n",
    "import os"
   ]
  },
  {
   "cell_type": "code",
   "execution_count": 2,
   "metadata": {},
   "outputs": [
    {
     "name": "stderr",
     "output_type": "stream",
     "text": [
      "Using TensorFlow backend.\n"
     ]
    }
   ],
   "source": [
    "from scipy.stats import pearsonr\n",
    "from scipy.signal import find_peaks\n",
    "from keras.models import load_model\n",
    "from Bio import SeqIO"
   ]
  },
  {
   "cell_type": "code",
   "execution_count": 3,
   "metadata": {},
   "outputs": [],
   "source": [
    "from Functions import position_gene, NFR_position, heat_map, calculate_nrl, process\n",
    "from MyModuleLibrary.mykeras.losses import correlate, mae_cor"
   ]
  },
  {
   "cell_type": "markdown",
   "metadata": {},
   "source": [
    "# Loading the data"
   ]
  },
  {
   "cell_type": "markdown",
   "metadata": {},
   "source": [
    "The experimental data for S.cerevisiae are available with [accession number GSM552910](https://www.ncbi.nlm.nih.gov/geo/query/acc.cgi?acc=GSM552910)."
   ]
  },
  {
   "cell_type": "code",
   "execution_count": 33,
   "metadata": {},
   "outputs": [],
   "source": [
    "# We import the experimental landscape of nucleosome on chromosome 16 of S.cerevisiae to find the NFR.\n",
    "WINDOW = 2001\n",
    "HALF_WX = WINDOW // 2\n",
    "\n",
    "proba = pd.read_csv('./Start_data/proba_in_vivo.csv')\n",
    "y_true = proba[proba.chr == 'chr16'].value.values[HALF_WX : - HALF_WX]"
   ]
  },
  {
   "cell_type": "code",
   "execution_count": null,
   "metadata": {},
   "outputs": [],
   "source": [
    "# We import here the prediction on chromosome 16 that we want to study.\n",
    "y_pred = np.load('../Results_nucleosome/y_pred_CNN_nucleosome_in_vivo.npy')"
   ]
  },
  {
   "cell_type": "markdown",
   "metadata": {},
   "source": [
    "Renormalisation of the data (this normalization correspond to the one experimentally used by [Tsankov et al.](https://journals.plos.org/plosbiology/article?id=10.1371/journal.pbio.1000414) to study the nucleosome occupancy). The normalization using a rolling max is shown to be less efficient to predict the nucleosome occupancy."
   ]
  },
  {
   "cell_type": "code",
   "execution_count": null,
   "metadata": {},
   "outputs": [],
   "source": [
    "y_pred /= np.mean(y_pred)\n",
    "y_true /= np.mean(y_true)"
   ]
  },
  {
   "cell_type": "markdown",
   "metadata": {},
   "source": [
    "Applying a moving average for both series"
   ]
  },
  {
   "cell_type": "code",
   "execution_count": null,
   "metadata": {},
   "outputs": [],
   "source": [
    "length = 3\n",
    "\n",
    "y_pred = np.array([np.mean(y_pred[i - length : i + length]) for i in range(length, len(y_pred) - length)])\n",
    "y_true = np.array([np.mean(y_true[i - length : i + length]) for i in range(length, len(y_true) - length)])"
   ]
  },
  {
   "cell_type": "code",
   "execution_count": null,
   "metadata": {},
   "outputs": [],
   "source": [
    "correlation = pearsonr(y_pred[y_true > 0], y_true[y_true > 0])[0]\n",
    "print 'Correlation between true and pred :', correlation"
   ]
  },
  {
   "cell_type": "code",
   "execution_count": null,
   "metadata": {
    "scrolled": false
   },
   "outputs": [],
   "source": [
    "fig = plt.figure(figsize=(10,10))\n",
    "ax = fig.add_subplot(2,1,1)\n",
    "ax.plot(y_pred, 'b', label='prediction')\n",
    "ax.plot(y_true, 'r', label='experimental')\n",
    "ax.legend()\n",
    "ax2 = fig.add_subplot(2,1,2)\n",
    "ax2.hist(y_pred, bins=100, density=True,\n",
    "         histtype='step', color='b', label='prediction')\n",
    "ax2.hist(y_true, bins=100, density=True,\n",
    "         histtype='step', color='r', label='experimental')\n",
    "ax2.legend()\n",
    "ax.set_title('Experimental and predicted occupancy on chr 16 ')\n",
    "ax2.set_title('Experimental and predicted distribution of score on chr 16 ')\n",
    "\n",
    "plt.show()"
   ]
  },
  {
   "cell_type": "markdown",
   "metadata": {},
   "source": [
    "#  Mean nucleosome occupancy in TSS region"
   ]
  },
  {
   "cell_type": "markdown",
   "metadata": {},
   "source": [
    "The nucleosome occupancy displays a characteristic pattern in TSS region that we want our model to be able to predict. This pattern is a relatively low nucleosome occupancy before the TSS followed by a regular positioning of nucleosome with the periodicity 167 in S.cerevisiae."
   ]
  },
  {
   "cell_type": "code",
   "execution_count": null,
   "metadata": {},
   "outputs": [],
   "source": [
    "gene_positions = pd.read_table('./Start_data/position_genes.txt', sep = '\\t')\n",
    "gene_positions.head()"
   ]
  },
  {
   "cell_type": "code",
   "execution_count": null,
   "metadata": {},
   "outputs": [],
   "source": [
    "tss_occupancy_pred = heat_map(y_pred, y_true, gene_positions, HALF_WX, 'tss')\n",
    "tss_occupancy_true = heat_map(y_true, y_true, gene_positions, HALF_WX, 'tss')"
   ]
  },
  {
   "cell_type": "markdown",
   "metadata": {},
   "source": [
    "We look at the heat map of nucleosome occupancy in the TSS region (both predicted and experimental). The mean occupancy in this region displays the characteristic regular pattern."
   ]
  },
  {
   "cell_type": "code",
   "execution_count": null,
   "metadata": {},
   "outputs": [],
   "source": [
    "print 'Experimental NRL : {}'.format(calculate_nrl(tss_occupancy_true))\n",
    "print 'Predicted NRL : {}'.format(calculate_nrl(tss_occupancy_pred))\n",
    "\n",
    "fig,(ax1,ax2,ax3) = plt.subplots(1,3,figsize=(13,3),dpi=100,num=1)\n",
    "\n",
    "ax1.plot(range(-500, 1000),\n",
    "         np.mean(tss_occupancy_pred, axis=0),\n",
    "         color='b',\n",
    "         label='prediction')\n",
    "ax1.plot(range(-500, 1000),\n",
    "         np.mean(tss_occupancy_true, axis=0),\n",
    "         color='r',\n",
    "         label='experimental')\n",
    "ax1.set(title='Mean nucleosome occupancy near TSS',\n",
    "        xlabel='distance from TSS',\n",
    "        ylabel='Mean occupancy')\n",
    "ax1.legend()\n",
    "\n",
    "ax2.imshow(tss_occupancy_true, aspect='auto')\n",
    "ax2.set(title='Experimental heat-map',\n",
    "        xlabel='Distance from TSS')\n",
    "ax2.set_xticks(np.arange(0, 1501, 250))\n",
    "ax2.set_xticklabels(np.arange(-500, 1001, 250))\n",
    "\n",
    "ax3.imshow(tss_occupancy_pred, aspect='auto')\n",
    "ax3.set(title='Predicted heat-map',\n",
    "        xlabel='Distance from TSS')\n",
    "ax3.set_xticks(np.arange(0, 1501, 250))\n",
    "ax3.set_xticklabels(np.arange(-500, 1001, 250))"
   ]
  },
  {
   "cell_type": "markdown",
   "metadata": {},
   "source": [
    "The NFR are the determinant part of the prediction.\n",
    "\n",
    "The precision of their prediction can be assess by representing the predicted distances between the TSS and the NFR in function of their experimental counterparts. \n",
    "\n",
    "Then we can plot the ratio of NFR that are predicted whitin a distance from the experimental NFR."
   ]
  },
  {
   "cell_type": "code",
   "execution_count": null,
   "metadata": {},
   "outputs": [],
   "source": [
    "nfr_pos_true = NFR_position(y_true, HALF_WX, gene_positions)\n",
    "nfr_pos_pred = NFR_position(y_pred, HALF_WX, gene_positions)\n",
    "gene_pos = position_gene(gene_positions, HALF_WX, y_true)\n",
    "\n",
    "dist_TSS_NFR_true = np.append(np.abs(nfr_pos_true[nfr_pos_true.strand == '+'].nfr_pos.values - gene_pos[2]),\n",
    "                              np.abs(nfr_pos_true[nfr_pos_true.strand == '-'].nfr_pos.values - gene_pos[3]))\n",
    "\n",
    "dist_TSS_NFR_pred = np.append(np.abs(nfr_pos_pred[nfr_pos_pred.strand == '+'].nfr_pos.values - gene_pos[2]),\n",
    "                              np.abs(nfr_pos_pred[nfr_pos_pred.strand == '-'].nfr_pos.values - gene_pos[3]))\n",
    "\n",
    "diff = np.abs(nfr_pos_true.nfr_pos.values - nfr_pos_pred.nfr_pos.values)\n",
    "ratios = np.array([len(diff[diff < i]) / float(len(diff)) for i in range(1000)])\n",
    "\n",
    "fig, (ax, ax1) = plt.subplots(1, 2, figsize=(10,5))\n",
    "\n",
    "ax.plot(dist_TSS_NFR_true, dist_TSS_NFR_pred,\n",
    "        linestyle='', marker='o', markersize=1.0, color ='royalblue')\n",
    "ax.plot(range(100,800), range(0,700), linestyle='--', linewidth = 0.8, color = 'r')\n",
    "ax.plot(range(0,800), range(100,900), linestyle='--', linewidth = 0.8, color = 'r')\n",
    "\n",
    "ax.set(xlabel='Experimental distance from TSS to NFR',\n",
    "       ylabel='Predicted distance from TSS to NFR',\n",
    "       title='Scatter plot of NFR-TSS distances')\n",
    "\n",
    "ax1.plot(ratios, color='royalblue',\n",
    "         label='AUC : {}'.format(round(np.sum(ratios)) / 1000.))\n",
    "ax1.set(title='Ratio of predicted NFR',\n",
    "        ylabel='ratio of predicted NFR within the distance',\n",
    "        xlabel='distance from real NFR')\n",
    "ax1.legend()"
   ]
  },
  {
   "cell_type": "markdown",
   "metadata": {},
   "source": [
    "## Evaluating the quality of the prediction in function of the gene activity"
   ]
  },
  {
   "cell_type": "markdown",
   "metadata": {},
   "source": [
    "It is likely that the quality of prediction on a gene is anti-correlated with the gene activity. In fact the RNA-polymerase can change the organisation of the nucleosome during transcription adding noise to their structure. It is likely that this noise is dependant on the activity of the gene."
   ]
  },
  {
   "cell_type": "code",
   "execution_count": null,
   "metadata": {},
   "outputs": [],
   "source": [
    "rna_seq = pd.read_csv('./Start_data/rna_seq_SRR7131299.csv')\n",
    "rna_seq = rna_seq[rna_seq.chr == 'chr16'].value.values\n",
    "rna_seq = np.abs(rna_seq)\n",
    "\n",
    "gene_pos_start, gene_pos_stop, _, _ = position_gene(gene_positions, HALF_WX, y_true)\n",
    "gene_pos = zip(gene_pos_start, gene_pos_stop)"
   ]
  },
  {
   "cell_type": "code",
   "execution_count": null,
   "metadata": {},
   "outputs": [],
   "source": [
    "genes_activity = np.array([np.mean(rna_seq[start : stop], axis=0) for start, stop in gene_pos])\n",
    "genes_prediction_qual = np.array([pearsonr(y_true[start : stop],\n",
    "                                           y_pred[start : stop])[0] for start, stop in gene_pos])\n",
    "\n",
    "genes_activity = genes_activity[~np.isnan(genes_prediction_qual)]\n",
    "genes_prediction_qual = genes_prediction_qual[~np.isnan(genes_prediction_qual)]\n",
    "\n",
    "fig, ax = plt.subplots(1, 1, figsize=(6,5))\n",
    "\n",
    "ax.plot(genes_activity,\n",
    "        genes_prediction_qual,\n",
    "        label='correlation : {}'.format(pearsonr(genes_activity, genes_prediction_qual)[0]),\n",
    "        color='royalblue',\n",
    "        marker='o',\n",
    "        linestyle='',\n",
    "        markersize=0.9)\n",
    "ax.set(title='Prediction quality vs genes activity',\n",
    "       xlabel='mean gene activity',\n",
    "       ylabel='correlation between pred and true on the gene')\n",
    "ax.legend()"
   ]
  },
  {
   "cell_type": "markdown",
   "metadata": {},
   "source": [
    "## Evaluating the prediction in several other species"
   ]
  },
  {
   "cell_type": "markdown",
   "metadata": {},
   "source": [
    "We predict on several different species the nucleosome occupancy with the model trained on S.cerevisiae.\n",
    "We want to observe if the model is able to adapt to a new genome, and especially to look at its periodicity adaptation."
   ]
  },
  {
   "cell_type": "markdown",
   "metadata": {},
   "source": [
    "To be more precise the evaluation is made on :\n",
    "    - K.lactis, chr 6\n",
    "    - D.hansenii, chr 3\n",
    "    - C.albicans, chr 1\n",
    "    - Y.lipolytica, chr 1\n",
    "The experimental landscape in vivo were taken from the study of [Tsankov et al.](https://journals.plos.org/plosbiology/article?id=10.1371/journal.pbio.1000414) and are available with [accession number GSE21960](https://www.ncbi.nlm.nih.gov/geo/query/acc.cgi?acc=GSE21960)"
   ]
  },
  {
   "cell_type": "code",
   "execution_count": null,
   "metadata": {},
   "outputs": [],
   "source": [
    "# We import the experimental landscape of nucleosome on several species.\n",
    "WINDOW = 2001\n",
    "HALF_WX = WINDOW // 2\n",
    "\n",
    "proba_klac = pd.read_csv('./Start_data/proba_klac.csv')\n",
    "y_klac = proba_klac[proba_klac.chr == 'chr6'].value.values[HALF_WX : - HALF_WX]\n",
    "\n",
    "proba_dhan = pd.read_csv('./Start_data/proba_dhan.csv')\n",
    "y_dhan = proba_dhan[proba_dhan.chr == 'chr3'].value.values[HALF_WX : - HALF_WX]\n",
    "\n",
    "proba_calb = pd.read_csv('./Start_data/proba_calb.csv')\n",
    "y_calb = proba_calb[proba_calb.chr == 'chr1'].value.values[HALF_WX : - HALF_WX]\n",
    "\n",
    "proba_ylip = pd.read_csv('./Start_data/proba_ylip.csv')\n",
    "y_ylip = proba_ylip[proba_ylip.chr == 'chr1'].value.values[HALF_WX : - HALF_WX]"
   ]
  },
  {
   "cell_type": "code",
   "execution_count": null,
   "metadata": {},
   "outputs": [],
   "source": [
    "y_pred_klac = np.load('../Results_nucleosome/y_pred_klac.npy')\n",
    "y_pred_dhan = np.load('../Results_nucleosome/y_pred_dhan.npy')\n",
    "y_pred_calb = np.load('../Results_nucleosome/y_pred_calb.npy')\n",
    "y_pred_ylip = np.load('../Results_nucleosome/y_pred_ylip.npy')"
   ]
  },
  {
   "cell_type": "code",
   "execution_count": null,
   "metadata": {},
   "outputs": [],
   "source": [
    "gene_klac = pd.read_csv('./Start_data/Tsankov_dataset/position_genes_Klac.chrF.csv')\n",
    "gene_klac = gene_klac[gene_klac.type == 'gene']\n",
    "\n",
    "gene_dhan = pd.read_csv('./Start_data/Tsankov_dataset/position_genes_Dhan.chrC.csv')\n",
    "gene_dhan = gene_dhan[gene_dhan.type == 'gene']\n",
    "\n",
    "gene_calb = pd.read_csv('./Start_data/Tsankov_dataset/position_genes_Calb.chrA.csv')\n",
    "gene_calb = gene_calb[gene_calb.type == 'gene']\n",
    "\n",
    "gene_ylip = pd.read_csv('./Start_data/Tsankov_dataset/position_genes_Ylip.chrA.csv')\n",
    "gene_ylip = gene_ylip[gene_ylip.type == 'gene']"
   ]
  },
  {
   "cell_type": "code",
   "execution_count": null,
   "metadata": {},
   "outputs": [],
   "source": [
    "feature = 'nuc_pred'\n",
    "\n",
    "tss_occupancy_pred_klac = heat_map(y_pred_klac, y_klac, gene_klac, HALF_WX, feature)\n",
    "tss_occupancy_klac = heat_map(y_klac, y_klac, gene_klac, HALF_WX, feature)\n",
    "\n",
    "tss_occupancy_pred_dhan = heat_map(y_pred_dhan, y_dhan, gene_dhan, HALF_WX, feature)\n",
    "tss_occupancy_dhan = heat_map(y_dhan, y_dhan, gene_dhan, HALF_WX, feature)\n",
    "\n",
    "tss_occupancy_pred_calb = heat_map(y_pred_calb, y_calb, gene_calb, HALF_WX, feature)\n",
    "tss_occupancy_calb = heat_map(y_calb, y_calb, gene_calb, HALF_WX, feature)\n",
    "\n",
    "tss_occupancy_pred_ylip = heat_map(y_pred_ylip, y_ylip, gene_ylip, HALF_WX, feature)\n",
    "tss_occupancy_ylip = heat_map(y_ylip, y_ylip, gene_ylip, HALF_WX, feature)"
   ]
  },
  {
   "cell_type": "markdown",
   "metadata": {},
   "source": [
    "#### Evaluating the Nucleosome Repeat Length"
   ]
  },
  {
   "cell_type": "code",
   "execution_count": null,
   "metadata": {},
   "outputs": [],
   "source": [
    "nrl_klac = calculate_nrl(tss_occupancy_klac)\n",
    "nrl_pred_klac = calculate_nrl(tss_occupancy_pred_klac)\n",
    "\n",
    "nrl_dhan = calculate_nrl(tss_occupancy_dhan)\n",
    "nrl_pred_dhan = calculate_nrl(tss_occupancy_pred_dhan)\n",
    "\n",
    "nrl_calb = calculate_nrl(tss_occupancy_calb)\n",
    "nrl_pred_calb = calculate_nrl(tss_occupancy_pred_calb)\n",
    "\n",
    "nrl_ylip = calculate_nrl(tss_occupancy_ylip)\n",
    "nrl_pred_ylip = calculate_nrl(tss_occupancy_pred_ylip)"
   ]
  },
  {
   "cell_type": "code",
   "execution_count": null,
   "metadata": {},
   "outputs": [],
   "source": [
    "N = 4\n",
    "nrl_true = (nrl_klac, nrl_dhan, nrl_calb, nrl_ylip)\n",
    "nrl_pred = (nrl_pred_klac, nrl_pred_dhan, nrl_pred_calb, nrl_pred_ylip)\n",
    "\n",
    "ind = np.arange(N) \n",
    "width = 0.35       \n",
    "\n",
    "fig, ax = plt.subplots(1, 1)\n",
    "ax.bar(ind, nrl_true, width, label='Experimental NRL', color='red')\n",
    "ax.bar(ind + width, nrl_pred, width, label='Predicted NRL', color='blue')\n",
    "\n",
    "ax.set(ylabel='Nucleosome Repeat Length',\n",
    "       title='Experimental and predicted NRL for the four species')\n",
    "ax.set_ylim(150, 179)\n",
    "ax.set_xticks(ind + width / 2)\n",
    "ax.set_xticklabels(['Klac', 'Dhan', 'Calb', 'Ylip'])\n",
    "ax.legend(loc='best')\n",
    "\n",
    "plt.show()"
   ]
  },
  {
   "cell_type": "markdown",
   "metadata": {},
   "source": [
    "The predicted NRL is somehow always the same, around the NRL of S.cerevisiae. The model is able to learn the periodicity of the data but for S.cerevisiae, there is no code in the sequence that indicate the periodicity."
   ]
  },
  {
   "cell_type": "markdown",
   "metadata": {},
   "source": [
    "#### Plotting the mean occupancy in TSS region"
   ]
  },
  {
   "cell_type": "markdown",
   "metadata": {},
   "source": [
    "We align the mean occupancy to the experimental N+1 so that to replicate the alignment in [Tsankov et al.](https://journals.plos.org/plosbiology/article?id=10.1371/journal.pbio.1000414)."
   ]
  },
  {
   "cell_type": "code",
   "execution_count": null,
   "metadata": {},
   "outputs": [],
   "source": [
    "fig, axes = plt.subplots(2,2,figsize=(8,8),dpi=100,num=1)\n",
    "\n",
    "ax1 = axes[0,0]\n",
    "ax2 = axes[0,1]\n",
    "ax3 = axes[1,0]\n",
    "ax4 = axes[1,1]\n",
    "\n",
    "ax1.plot(range(-500, 1000),\n",
    "         np.mean(tss_occupancy_pred_klac, axis=0),\n",
    "         color='b',\n",
    "         label='prediction')\n",
    "ax1.plot(range(-500, 1000),\n",
    "         np.mean(tss_occupancy_klac, axis=0),\n",
    "         color='r',\n",
    "         label='experimental')\n",
    "ax1.set(title='K.lactis',\n",
    "        ylabel='Mean occupancy')\n",
    "ax1.legend()\n",
    "\n",
    "ax2.plot(range(-500, 1000),\n",
    "         np.mean(tss_occupancy_pred_dhan, axis=0),\n",
    "         color='b',\n",
    "         label='prediction')\n",
    "ax2.plot(range(-500, 1000),\n",
    "         np.mean(tss_occupancy_dhan, axis=0),\n",
    "         color='r',\n",
    "         label='experimental')\n",
    "ax2.set(title='D.hansenii')\n",
    "ax2.legend()\n",
    "\n",
    "ax3.plot(range(-500, 1000),\n",
    "         np.mean(tss_occupancy_pred_calb, axis=0),\n",
    "         color='b',\n",
    "         label='prediction')\n",
    "ax3.plot(range(-500, 1000),\n",
    "         np.mean(tss_occupancy_calb, axis=0),\n",
    "         color='r',\n",
    "         label='experimental')\n",
    "ax3.set(title='C.albicans',\n",
    "        xlabel='distance from TSS',\n",
    "        ylabel='Mean occupancy')\n",
    "ax3.legend()\n",
    "\n",
    "ax4.plot(range(-500, 1000),\n",
    "         np.mean(tss_occupancy_pred_ylip, axis=0),\n",
    "         color='b',\n",
    "         label='prediction')\n",
    "ax4.plot(range(-500, 1000),\n",
    "         np.mean(tss_occupancy_ylip, axis=0),\n",
    "         color='r',\n",
    "         label='experimental')\n",
    "ax4.set(title='Y.lipolityca',\n",
    "        xlabel='distance from TSS')\n",
    "ax4.legend()"
   ]
  },
  {
   "cell_type": "markdown",
   "metadata": {},
   "source": [
    "## Paired-end collaborator data"
   ]
  },
  {
   "cell_type": "markdown",
   "metadata": {},
   "source": [
    "The data not published taken from our collaborator are paired end, we want to invetigate the influence of the alignment on the quality of prediction. The dataset is made of several replica of an experiment with an artificial part on the chromosome 13. In a first time we train a model on the first 12 chromosomes, validation on 14 and 15 and prediction on chromosome 16."
   ]
  },
  {
   "cell_type": "markdown",
   "metadata": {},
   "source": [
    "We want to investigate the quality of prediction and the reproducibility (compared to the experimental one). We will compare predictions to experiments, experiments to experiments and predictions to predictions with a correlation matrix."
   ]
  },
  {
   "cell_type": "code",
   "execution_count": null,
   "metadata": {},
   "outputs": [],
   "source": [
    "def plot_cor_mat(indexes):\n",
    "    WINDOW = 2001\n",
    "    HALF_WX = WINDOW // 2\n",
    "\n",
    "    data = pd.DataFrame()\n",
    "\n",
    "    for index in indexes:\n",
    "\n",
    "        proba = pd.read_csv('./Start_data/proba_' + index + '.csv')\n",
    "        y_true = proba[proba.chr == 'chr16'].value.values[HALF_WX : - HALF_WX]\n",
    "        y_true /= np.mean(y_true)\n",
    "        data['y_true_' + index] = y_true\n",
    "        \n",
    "    for index in indexes:\n",
    "        y_pred = np.load('../Results_nucleosome/y_pred_collaborator_' + index + '.npy')\n",
    "        y_pred /= np.mean(y_pred)        \n",
    "        data['y_pred_' + index] = y_pred\n",
    "        \n",
    "\n",
    "    corr = data.corr()\n",
    "\n",
    "    fig, ax = plt.subplots(figsize=(7, 7))\n",
    "    helper = ax.matshow(corr)\n",
    "    plt.xticks(range(len(corr.columns)), corr.columns, rotation=40, fontsize='x-small', ha = 'left')\n",
    "    plt.yticks(range(len(corr.columns)), corr.columns, rotation=60, fontsize='x-small', ha = 'right')\n",
    "    fig.colorbar(helper, ax=ax)"
   ]
  },
  {
   "cell_type": "code",
   "execution_count": null,
   "metadata": {},
   "outputs": [],
   "source": [
    "indexes = ['WT_167_rep1', 'WT_167_rep2', 'WT_167_rep3', 'WT_167_rep4', 'WT_167_rep5']\n",
    "plot_cor_mat(indexes)"
   ]
  },
  {
   "cell_type": "code",
   "execution_count": null,
   "metadata": {},
   "outputs": [],
   "source": [
    "indexes = ['WT_197_rep1', 'WT_197_rep2', 'WT_197_rep3', 'WT_197_rep4']\n",
    "plot_cor_mat(indexes)"
   ]
  },
  {
   "cell_type": "code",
   "execution_count": null,
   "metadata": {},
   "outputs": [],
   "source": [
    "indexes = ['WT_237_rep1', 'WT_237_rep2', 'WT_237_rep3', 'WT_237_rep4']\n",
    "plot_cor_mat(indexes)"
   ]
  },
  {
   "cell_type": "code",
   "execution_count": null,
   "metadata": {},
   "outputs": [],
   "source": [
    "indexes = ['WT_167_rep1', 'WT_197_rep1', 'WT_237_rep1']\n",
    "plot_cor_mat(indexes)"
   ]
  },
  {
   "cell_type": "markdown",
   "metadata": {},
   "source": [
    "### Collaborator data analysis"
   ]
  },
  {
   "cell_type": "markdown",
   "metadata": {},
   "source": [
    "The gap in quality prediction make us wonder if the collaborator data are characteristic of nucleosome positioning or only of MNAse bias. We will compare those data with the original experiment analysed in the previous section."
   ]
  },
  {
   "cell_type": "code",
   "execution_count": 31,
   "metadata": {},
   "outputs": [
    {
     "ename": "NameError",
     "evalue": "name 'HALF_WX' is not defined",
     "output_type": "error",
     "traceback": [
      "\u001b[0;31m----------------------------------------------------------------------\u001b[0m",
      "\u001b[0;31mNameError\u001b[0m                            Traceback (most recent call last)",
      "\u001b[0;32m<ipython-input-31-9c67c9adc47e>\u001b[0m in \u001b[0;36m<module>\u001b[0;34m()\u001b[0m\n\u001b[1;32m      1\u001b[0m \u001b[0mdata\u001b[0m \u001b[0;34m=\u001b[0m \u001b[0mpd\u001b[0m\u001b[0;34m.\u001b[0m\u001b[0mDataFrame\u001b[0m\u001b[0;34m(\u001b[0m\u001b[0;34m)\u001b[0m\u001b[0;34m\u001b[0m\u001b[0m\n\u001b[1;32m      2\u001b[0m \u001b[0mproba\u001b[0m \u001b[0;34m=\u001b[0m \u001b[0mpd\u001b[0m\u001b[0;34m.\u001b[0m\u001b[0mread_csv\u001b[0m\u001b[0;34m(\u001b[0m\u001b[0;34m'./Start_data/proba_in_vivo.csv'\u001b[0m\u001b[0;34m)\u001b[0m\u001b[0;34m\u001b[0m\u001b[0m\n\u001b[0;32m----> 3\u001b[0;31m \u001b[0my_original\u001b[0m \u001b[0;34m=\u001b[0m \u001b[0mproba\u001b[0m\u001b[0;34m[\u001b[0m\u001b[0mproba\u001b[0m\u001b[0;34m.\u001b[0m\u001b[0mchr\u001b[0m \u001b[0;34m==\u001b[0m \u001b[0;34m'chr16'\u001b[0m\u001b[0;34m]\u001b[0m\u001b[0;34m.\u001b[0m\u001b[0mvalue\u001b[0m\u001b[0;34m.\u001b[0m\u001b[0mvalues\u001b[0m\u001b[0;34m[\u001b[0m\u001b[0mHALF_WX\u001b[0m \u001b[0;34m:\u001b[0m \u001b[0;34m-\u001b[0m\u001b[0mHALF_WX\u001b[0m\u001b[0;34m]\u001b[0m\u001b[0;34m\u001b[0m\u001b[0m\n\u001b[0m\u001b[1;32m      4\u001b[0m \u001b[0mdata\u001b[0m\u001b[0;34m[\u001b[0m\u001b[0;34m'original_data'\u001b[0m\u001b[0;34m]\u001b[0m \u001b[0;34m=\u001b[0m \u001b[0my_original\u001b[0m \u001b[0;34m/\u001b[0m \u001b[0mnp\u001b[0m\u001b[0;34m.\u001b[0m\u001b[0mmean\u001b[0m\u001b[0;34m(\u001b[0m\u001b[0my_original\u001b[0m\u001b[0;34m)\u001b[0m\u001b[0;34m\u001b[0m\u001b[0m\n\u001b[1;32m      5\u001b[0m \u001b[0;34m\u001b[0m\u001b[0m\n",
      "\u001b[0;31mNameError\u001b[0m: name 'HALF_WX' is not defined"
     ]
    }
   ],
   "source": [
    "data = pd.DataFrame()\n",
    "proba = pd.read_csv('./Start_data/proba_in_vivo.csv')\n",
    "y_original = proba[proba.chr == 'chr16'].value.values[HALF_WX : -HALF_WX]\n",
    "data['original_data'] = y_original / np.mean(y_original)\n",
    "\n",
    "indexes = ['WT_167_rep1', 'WT_167_rep2', 'WT_167_rep3', 'WT_167_rep4', 'WT_167_rep5',\n",
    "           'WT_197_rep1', 'WT_197_rep2', 'WT_197_rep3', 'WT_197_rep4',\n",
    "           'WT_237_rep1', 'WT_237_rep2', 'WT_237_rep3', 'WT_237_rep4']\n",
    "\n",
    "for index in indexes:\n",
    "\n",
    "        proba = pd.read_csv('./Start_data/proba_' + index + '.csv')\n",
    "        y_true = proba[proba.chr == 'chr16'].value.values[HALF_WX : -HALF_WX]\n",
    "        y_true /= np.mean(y_true)\n",
    "        data['y_collabo_' + index] = y_true\n",
    "\n",
    "corr = data.corr()\n",
    "corr.original_data"
   ]
  },
  {
   "cell_type": "code",
   "execution_count": null,
   "metadata": {},
   "outputs": [],
   "source": [
    "gene_positions = pd.read_table('./Start_data/position_genes.txt', sep = '\\t')"
   ]
  },
  {
   "cell_type": "code",
   "execution_count": null,
   "metadata": {},
   "outputs": [],
   "source": [
    "tss_occupancy_original = heat_map(data.original_data,\n",
    "                              data.original_data,\n",
    "                              gene_positions, HALF_WX, 'tss')\n",
    "index = 'y_collabo_WT_237_rep2'\n",
    "\n",
    "tss_occupancy_col = heat_map(data[index],\n",
    "                              data[index],\n",
    "                              gene_positions, HALF_WX, 'tss')"
   ]
  },
  {
   "cell_type": "code",
   "execution_count": 32,
   "metadata": {},
   "outputs": [
    {
     "ename": "NameError",
     "evalue": "name 'tss_occupancy_col' is not defined",
     "output_type": "error",
     "traceback": [
      "\u001b[0;31m----------------------------------------------------------------------\u001b[0m",
      "\u001b[0;31mNameError\u001b[0m                            Traceback (most recent call last)",
      "\u001b[0;32m<ipython-input-32-f0a0f7b1179e>\u001b[0m in \u001b[0;36m<module>\u001b[0;34m()\u001b[0m\n\u001b[1;32m      2\u001b[0m \u001b[0;34m\u001b[0m\u001b[0m\n\u001b[1;32m      3\u001b[0m ax1.plot(range(-500, 1000),\n\u001b[0;32m----> 4\u001b[0;31m          \u001b[0mnp\u001b[0m\u001b[0;34m.\u001b[0m\u001b[0mmean\u001b[0m\u001b[0;34m(\u001b[0m\u001b[0mtss_occupancy_col\u001b[0m\u001b[0;34m,\u001b[0m \u001b[0maxis\u001b[0m\u001b[0;34m=\u001b[0m\u001b[0;36m0\u001b[0m\u001b[0;34m)\u001b[0m\u001b[0;34m,\u001b[0m\u001b[0;34m\u001b[0m\u001b[0m\n\u001b[0m\u001b[1;32m      5\u001b[0m          \u001b[0mcolor\u001b[0m\u001b[0;34m=\u001b[0m\u001b[0;34m'b'\u001b[0m\u001b[0;34m,\u001b[0m\u001b[0;34m\u001b[0m\u001b[0m\n\u001b[1;32m      6\u001b[0m          label='collabo')\n",
      "\u001b[0;31mNameError\u001b[0m: name 'tss_occupancy_col' is not defined"
     ]
    },
    {
     "data": {
      "image/png": "[encoded data removed]",
      "text/plain": [
       "<Figure size 500x300 with 1 Axes>"
      ]
     },
     "metadata": {},
     "output_type": "display_data"
    }
   ],
   "source": [
    "fig,ax1 = plt.subplots(1,1,figsize=(5,3),dpi=100,num=1)\n",
    "\n",
    "ax1.plot(range(-500, 1000),\n",
    "         np.mean(tss_occupancy_col, axis=0),\n",
    "         color='b',\n",
    "         label='collabo')\n",
    "ax1.plot(range(-500, 1000),\n",
    "         np.mean(tss_occupancy_original, axis=0),\n",
    "         color='r',\n",
    "         label='original')\n",
    "ax1.set(title='Mean nucleosome occupancy near TSS',\n",
    "        xlabel='distance from TSS',\n",
    "        ylabel='Mean occupancy')\n",
    "ax1.legend()"
   ]
  },
  {
   "cell_type": "markdown",
   "metadata": {},
   "source": [
    "By looking at the mean nucleosome occupancy in TSS region it appears that the paired-end data do not display the typical periodical feature except for the three replica 167_rep2, 167_rep3, 237_rep2 where the model predict with the worse score. The good score of the model can be explained by the poor quality of the experimental data (that may be representative of the MNAse bias, a much more sequence driven problem)."
   ]
  },
  {
   "cell_type": "markdown",
   "metadata": {},
   "source": [
    "### Prediction on the synthetic domain"
   ]
  },
  {
   "cell_type": "markdown",
   "metadata": {},
   "source": [
    "The collaborator includes a series of synthetic domains designed to precisely positioned the nucleosome on it.\n",
    "We want to compare the prediction of our model on this sequence to the experiment."
   ]
  },
  {
   "cell_type": "code",
   "execution_count": 4,
   "metadata": {},
   "outputs": [],
   "source": [
    "def process_artificial_seq(start_601, length, n):\n",
    "    \"\"\"\n",
    "        This function is aimed at creating the artificial sequence both for the prediction and to perform a bowtie\n",
    "        alignment on it.\n",
    "        \n",
    "        It takes the position of the beginning of the 601_seq, the length of this sequence and the number of time\n",
    "        that we want to repeat it and returns a sequence made of the 1000 bp before the 601, n times the 601 and\n",
    "        the 1000 bp after the 601. It returns those sequence in a numpy array so that predict on it and also in a\n",
    "        fasta file to perform and alignment on it using bowtie.\n",
    "        \n",
    "        Args:\n",
    "            start_601: position of the beginning of 601_seq in the chromosome 13.\n",
    "            length: {167, 197, 237} length of the 601\n",
    "            n: number of time the 601 will be set on the artificial sequence.\n",
    "        returns:\n",
    "            seq_multi_601: numpy array with the artficial sequence.\n",
    "            artificial_WT_length_nrepeat.fa: a fasta file with the artificial sequence\n",
    "    \"\"\"\n",
    "    f = h5py.File('seq_chr_sacCer3/collaborator_' + str(length) + '/chr13.hdf5')\n",
    "    seq = np.array(f['data'])\n",
    "    f.close()\n",
    "    \n",
    "    seq_601 = seq[start_601 : start_601 + length]\n",
    "    seq_multi_601 = seq[start_601 - 1000 : start_601]\n",
    "    \n",
    "    for i in range(n):\n",
    "        seq_multi_601 = np.append(seq_multi_601, seq_601)\n",
    "    \n",
    "    seq_multi_601 = np.append(seq_multi_601, seq[start_601 + length : start_601 + length + 1000])\n",
    "    \n",
    "    fin = gzip.open('seq_chr_sacCer3/collaborator_' + str(length) + '/chr13.fa.gz', 'r')\n",
    "    file_out = 'seq_chr_sacCer3/collaborator_' + str(length) + '/artificial_WT_' + str(length) + '_' + str(n) + 'rep.fa'\n",
    "\n",
    "    for seq_record in SeqIO.parse(fin, 'fasta'):\n",
    "        seq_601_fa = seq_record.seq[start_601 : start_601 + length]\n",
    "        seq_multi_601_fa = seq_record.seq[start_601 - 1000: start_601]\n",
    "        \n",
    "        for i in range(n):\n",
    "            seq_multi_601_fa = seq_multi_601_fa + seq_601_fa\n",
    "    \n",
    "        seq_multi_601_fa = seq_multi_601_fa + seq_record.seq[start_601 + length : start_601 + length + 1000]\n",
    "        \n",
    "        seq_record.seq = seq_multi_601_fa\n",
    "        seq_record.id = 'KXIII_artificial_part'\n",
    "\n",
    "        with open(file_out, 'w') as f_out:\n",
    "            SeqIO.write(seq_record, f_out, 'fasta')\n",
    "    \n",
    "    return seq_multi_601\n",
    "    "
   ]
  },
  {
   "cell_type": "code",
   "execution_count": 5,
   "metadata": {},
   "outputs": [],
   "source": [
    "def align_seq(start_601, length, n, fastq_file, replica_num):\n",
    "    \"\"\"\n",
    "        Return the experimental nucleosome occupancy on the artificial sequence for the experiment in fatsq_file, \n",
    "        corresponding to the replica number replica_num.\n",
    "        \n",
    "        This function will return a numpy array corresponding to the experimental nucleosome occupancy on the\n",
    "        artificial sequence that is saved on a .csv file. If this .csv does not exist then it will perform the\n",
    "        alignment and creates the .csv file. This operation may take a while.\n",
    "        \n",
    "        Args:\n",
    "            start_601: position of the first nucleotid on the 601 synthetic sequence.\n",
    "            length: length in bp of the 601 sequence.\n",
    "            n: number of occurence of the 601 sequence in our designed seq.\n",
    "            fastq_file: the file that contains the results of experiment in fastq format (path from Alignment)\n",
    "            replica_num: the replica number of the experiment at this side (in our definition)\n",
    "    \"\"\"\n",
    "    \n",
    "    if not os.path.exists('Start_data/collaborator_chr13/artificial_WT_' + str(length) + '_' + str(n) + 'rep_rep' + str(replica_num) + '.csv'):\n",
    "        seq_multi_601 = process_artificial_seq(start_601, length, n)\n",
    "    \n",
    "        os.chdir('/users/invites/routhier/Documents/Projet_nucleosomes/Alignment/')\n",
    "        os.system(\"align_artificial.sh \" + fastq_file  + \" \" + str(length) + \" \" + str(n) + \" \" + str(replica_num))\n",
    "        os.chdir('/users/invites/routhier/Documents/Projet_nucleosomes/Programme/')\n",
    "    \n",
    "    y_true_syn = pd.read_csv('Start_data/collaborator_chr13/artificial_WT_' + str(length) + '_' + str(n) + 'rep_rep' + str(replica_num) + '.csv').value.values\n",
    "    return y_true_syn"
   ]
  },
  {
   "cell_type": "code",
   "execution_count": 6,
   "metadata": {},
   "outputs": [],
   "source": [
    "def predict_align_seq(start_601, length, n, model_length, replica_num):\n",
    "    \"\"\"Predict the nucleosome density on the artificial sequence with the model WT_(model_length)_rep(replica_num)\"\"\"\n",
    "    seq_multi_601 = process_artificial_seq(start_601, length, n)\n",
    "    x_seq = process(seq_multi_601)\n",
    "\n",
    "    model = load_model('../Results_nucleosome/weights_collaborator_WT_' + str(model_length) + '_rep' + str(replica_num) + '.hdf5',\n",
    "                        custom_objects={'mae_cor' : mae_cor, 'correlate' : correlate})\n",
    "    y_pred_syn = model.predict(x_seq)\n",
    "    return y_pred_syn"
   ]
  },
  {
   "cell_type": "code",
   "execution_count": null,
   "metadata": {},
   "outputs": [],
   "source": [
    "start_601 = 793597\n",
    "length = 167\n",
    "n = 20\n",
    "\n",
    "fastq_files = ['BC70_TACT.dat', 'BC172_CGGT.dat', 'BC174_CGTT.dat']\n",
    "#fastq_files = ['BC78_ACTT.dat', 'BC110_CACT.dat','BC164_GTGT.dat']\n",
    "\n",
    "replica_nums = [1, 4, 5]\n",
    "#replica_nums = [1, 2, 4]\n",
    "\n",
    "y_true_mean = np.zeros(n * length)\n",
    "y_pred_mean = np.zeros(n * length)\n",
    "\n",
    "for fastq_file, replica_num in zip(fastq_files, replica_nums):\n",
    "    y_true_syn = align_seq(start_601, length, n, fastq_file, replica_num)\n",
    "    y = y_true_syn[1000 : 1000 + n * length]\n",
    "    plt.plot(y, label='y_true_mean')\n",
    "    y_true_mean += y\n",
    "    \n",
    "#model_lengths = [167, 167, 167, 197, 197, 197, 197, 237, 237, 237]\n",
    "#replica_nums = [1, 4, 5, 1, 2, 3, 4, 1, 3, 4]\n",
    "\n",
    "#for model_length, replica_num in zip(model_lengths, replica_nums):\n",
    "  #  y_pred_syn = predict_align_seq(start_601, length, n, model_length, replica_num)\n",
    "    #y_pred_syn = [np.mean(y_pred_syn[i : i + 5]) for i in range(len(y_pred_syn) - 5)]\n",
    "   # y_pred_mean += y_pred_syn[:, 0]\n",
    "\n",
    "#plt.plot(y_true_mean / np.mean(y_true_mean), label='y_true_mean')\n",
    "#plt.plot(y_pred_mean / np.mean(y_pred_mean), label='y_pred_mean')\n",
    "#plt.legend()"
   ]
  }
 ],
 "metadata": {
  "kernelspec": {
   "display_name": "Python 2",
   "language": "python",
   "name": "python2"
  },
  "language_info": {
   "codemirror_mode": {
    "name": "ipython",
    "version": 2
   },
   "file_extension": ".py",
   "mimetype": "text/x-python",
   "name": "python",
   "nbconvert_exporter": "python",
   "pygments_lexer": "ipython2",
   "version": "2.7.15"
  }
 },
 "nbformat": 4,
 "nbformat_minor": 2
}
