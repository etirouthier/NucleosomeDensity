{
 "cells": [
  {
   "cell_type": "code",
   "execution_count": null,
   "metadata": {},
   "outputs": [],
   "source": [
    "import numpy as np\n",
    "import pandas as pd\n",
    "import matplotlib.pyplot as plt\n",
    "%matplotlib notebook\n",
    "import seaborn as sns\n",
    "import h5py\n",
    "import matplotlib.lines as mlines"
   ]
  },
  {
   "cell_type": "code",
   "execution_count": null,
   "metadata": {},
   "outputs": [],
   "source": [
    "sns.set()"
   ]
  },
  {
   "cell_type": "code",
   "execution_count": null,
   "metadata": {},
   "outputs": [],
   "source": [
    "from scipy.stats import pearsonr\n",
    "import matplotlib as mpl\n",
    "from matplotlib.text import TextPath\n",
    "from matplotlib.patches import PathPatch\n",
    "from matplotlib.font_manager import FontProperties\n",
    "from keras.models import load_model"
   ]
  },
  {
   "cell_type": "code",
   "execution_count": null,
   "metadata": {},
   "outputs": [],
   "source": [
    "from Functions import position_gene, NFR_position, process\n",
    "from MyModuleLibrary.mykeras.losses import correlate, mae_cor"
   ]
  },
  {
   "cell_type": "markdown",
   "metadata": {},
   "source": [
    "# Studying the mutazome"
   ]
  },
  {
   "cell_type": "markdown",
   "metadata": {},
   "source": [
    "### Comparison with NFR position"
   ]
  },
  {
   "cell_type": "markdown",
   "metadata": {},
   "source": [
    "The first study of the nucleazome is to represent it and the NFR position to see weither there is a match between high effect of mutations and being in NFR position.\n",
    "Plotting the mean value of the nucleazome around NFR positions can help assessing this effect."
   ]
  },
  {
   "cell_type": "code",
   "execution_count": null,
   "metadata": {},
   "outputs": [],
   "source": [
    "mutation_map = np.load('../Results_nucleosome/mutazome_2001.npy')"
   ]
  },
  {
   "cell_type": "code",
   "execution_count": null,
   "metadata": {},
   "outputs": [],
   "source": [
    "# Gene position in S.cerevisiae chromosome 16.\n",
    "position = pd.read_table('./Start_data/position_genes.txt', sep = '\\t')\n",
    "position.head()"
   ]
  },
  {
   "cell_type": "code",
   "execution_count": null,
   "metadata": {},
   "outputs": [],
   "source": [
    "# We import the experimental landscape of nucleosome on chromosome 16 of S.cerevisiae to find the NFR.\n",
    "WINDOW = 2001\n",
    "HALF_WX = WINDOW // 2\n",
    "\n",
    "proba = pd.read_csv('./Start_data/proba_normalized.csv')\n",
    "y_true = proba[proba.chr == 'chr16'].value.values[HALF_WX : - HALF_WX]"
   ]
  },
  {
   "cell_type": "code",
   "execution_count": null,
   "metadata": {},
   "outputs": [],
   "source": [
    "# Calculing the NFR position on chromosome 16 \n",
    "nfr_position = NFR_position(y_true, HALF_WX, position)\n",
    "nfr_start = nfr_position[nfr_position.strand == '+'].nfr_pos.values + HALF_WX\n",
    "nfr_stop = nfr_position[nfr_position.strand == '-'].nfr_pos.values + HALF_WX\n",
    "nfr_position = nfr_position.nfr_pos.values # offset between mutazome and y_pred"
   ]
  },
  {
   "cell_type": "code",
   "execution_count": null,
   "metadata": {
    "scrolled": false
   },
   "outputs": [],
   "source": [
    "fig = plt.figure()\n",
    "\n",
    "ax = plt.axes()\n",
    "#plt.title('Muteazome on chr16 of S.cerevisiae')\n",
    "for xc in nfr_position:\n",
    "    plt.axvline(x=xc, color='r', linestyle='--')\n",
    "ax.plot(np.sum(mutation_map, axis=1), color='royalblue')\n",
    "ax.legend(handles=[mlines.Line2D([], [], color='r', markersize=15, linestyle='--', label=\"position des NFR\")])\n",
    "ax.set(xlabel='position sur le chromosome 16', ylabel='score de mutation')"
   ]
  },
  {
   "cell_type": "code",
   "execution_count": null,
   "metadata": {},
   "outputs": [],
   "source": [
    "WX = 2000\n",
    "\n",
    "z_score = np.sum(mutation_map[:205000], axis=1)\n",
    "z_score = z_score - np.mean(z_score)\n",
    "z_score /= np.std(z_score)\n",
    "\n",
    "nfr_region_start = np.array([z_score[pos - WX : pos + WX] for pos in nfr_start[nfr_start < 200000]])\n",
    "nfr_region_stop = np.array([z_score[pos - WX : pos + WX][::-1] for pos in nfr_stop[nfr_stop < 200000]])\n",
    "nfr_region = np.append(nfr_region_start, nfr_region_stop, axis=0)\n",
    "\n",
    "fig = plt.figure()\n",
    "ax = plt.axes()\n",
    "plt.plot(range(- WX, WX), np.mean(nfr_region, axis=0), color='royalblue')\n",
    "#plt.title('Zscore moyen autour des NFR')\n",
    "ax.set(xlabel='Distance avec les NFR', ylabel='zscore moyen')"
   ]
  },
  {
   "cell_type": "markdown",
   "metadata": {},
   "source": [
    "Those peaks at +/- 2000 bp from the NFR position are strange and we plot the autocorrelation of the mutazome to see if there is such a periodicity in it."
   ]
  },
  {
   "cell_type": "code",
   "execution_count": null,
   "metadata": {},
   "outputs": [],
   "source": [
    "plt.plot([pearsonr(z_score[i:], z_score[:-i])[0] for i in range(1, 3000)])"
   ]
  },
  {
   "cell_type": "markdown",
   "metadata": {},
   "source": [
    "### Important motives in nucleosome positioning"
   ]
  },
  {
   "cell_type": "code",
   "execution_count": null,
   "metadata": {},
   "outputs": [],
   "source": [
    "f = h5py.File('./seq_chr_sacCer3/sacCer3/chr16.hdf5',\n",
    "              'r')\n",
    "nucleotid = np.array(f[f.keys()[0]])\n",
    "f.close()\n",
    "nucleotid = nucleotid[:,0]"
   ]
  },
  {
   "cell_type": "code",
   "execution_count": null,
   "metadata": {},
   "outputs": [],
   "source": [
    "mutation_peaks = np.where(z_score > 3.5)[0]\n",
    "mutation_peaks.shape"
   ]
  },
  {
   "cell_type": "code",
   "execution_count": null,
   "metadata": {},
   "outputs": [],
   "source": [
    "motives = np.array([nucleotid[peak - 2 : peak + 3] for peak in mutation_peaks])\n",
    "motives, counts = np.unique(motives, axis=0, return_counts=True)\n",
    "\n",
    "counts = counts[np.argsort(counts)][::-1]\n",
    "motives = motives[np.argsort(counts)][::-1]"
   ]
  },
  {
   "cell_type": "code",
   "execution_count": null,
   "metadata": {},
   "outputs": [],
   "source": [
    "fp = FontProperties(family=\"Arial\", weight=\"bold\") \n",
    "globscale = 1.35\n",
    "LETTERS = { \"T\" : TextPath((-0.305, 0), \"T\", size=1, prop=fp),\n",
    "            \"G\" : TextPath((-0.384, 0), \"G\", size=1, prop=fp),\n",
    "            \"A\" : TextPath((-0.35, 0), \"A\", size=1, prop=fp),\n",
    "            \"C\" : TextPath((-0.366, 0), \"C\", size=1, prop=fp) }\n",
    "COLOR_SCHEME = {'G': 'orange', \n",
    "                'A': 'red', \n",
    "                'C': 'blue', \n",
    "                'T': 'darkgreen'}\n",
    "\n",
    "def _letterAt(letter, x, y, yscale=1, ax=None):\n",
    "    text = LETTERS[letter]\n",
    "\n",
    "    t = mpl.transforms.Affine2D().scale(1*globscale, yscale*globscale) + \\\n",
    "        mpl.transforms.Affine2D().translate(x,y) + ax.transData\n",
    "    p = PathPatch(text, lw=0, fc=COLOR_SCHEME[letter],  transform=t)\n",
    "    if ax != None:\n",
    "        ax.add_artist(p)\n",
    "    return p\n",
    "\n",
    "\n",
    "def plot_logo(motif):\n",
    "    \"\"\"\n",
    "        Plot a logo associated to a motif, the motif must be a numpy array with 1 standing for A, 2 for T, 3 for G\n",
    "        and 4 for C.\n",
    "    \"\"\"\n",
    "    motif = (np.arange(4) == motif[...,None]-1).astype(int)\n",
    "    motif = motif.reshape((motif.shape[0], 4))\n",
    "\n",
    "    fig, ax = plt.subplots(figsize=(5,2))\n",
    "    all_scores = [[('A', motif[i, 0]),\n",
    "                   ('T', motif[i, 1]),\n",
    "                   ('G', motif[i, 2]),\n",
    "                   ('C', motif[i, 3])] for i in range(motif.shape[0])]\n",
    "\n",
    "    x = 1\n",
    "    maxi = 0\n",
    "    for scores in all_scores:\n",
    "        y = 0\n",
    "        for base, score in scores:\n",
    "            _letterAt(base, x,y, score, ax)\n",
    "            y += score\n",
    "        x += 1\n",
    "        maxi = max(maxi, y)\n",
    "\n",
    "    plt.xticks(range(1,x))\n",
    "    plt.xlim((0, x)) \n",
    "    plt.ylim((0, maxi)) \n",
    "    plt.tight_layout()      \n",
    "    plt.show()"
   ]
  },
  {
   "cell_type": "code",
   "execution_count": null,
   "metadata": {},
   "outputs": [],
   "source": [
    "plot_logo(motives[29])"
   ]
  },
  {
   "cell_type": "markdown",
   "metadata": {},
   "source": [
    "#### Experimental p-value"
   ]
  },
  {
   "cell_type": "code",
   "execution_count": null,
   "metadata": {},
   "outputs": [],
   "source": [
    "p_value = np.zeros(counts.shape)\n",
    "TRIES = 1000\n",
    "N = mutation_peaks.shape[0]\n",
    "k = -1\n",
    "\n",
    "for motif, count in zip(motives, counts):\n",
    "    k += 1\n",
    "    for _ in range(TRIES):\n",
    "        rand_motives = np.array([nucleotid[i - 2 : i + 3] for i in np.random.randint(3, nucleotid.shape[0] - 3, N)])\n",
    "        indexes = np.arange(N)[[(rand_motives[j] == motif).all() for j in range(N)]]\n",
    "\n",
    "        if len(indexes) >= count:\n",
    "            p_value[k] += 1\n",
    "\n",
    "print(p_value)"
   ]
  },
  {
   "cell_type": "markdown",
   "metadata": {},
   "source": [
    "# Designing a sequence"
   ]
  },
  {
   "cell_type": "markdown",
   "metadata": {},
   "source": [
    "We design a sequence of 167 bp to use as a nucleosome setter. We select the mutation that help positioning the nucleosome as we want by a Metropolis algorithm."
   ]
  },
  {
   "cell_type": "code",
   "execution_count": null,
   "metadata": {},
   "outputs": [],
   "source": [
    "seq = np.load('../Results_nucleosome/designed_sequence.npy')\n",
    "x_seq = process(seq)\n",
    "\n",
    "model = load_model('../Results_nucleosome/weights_collaborator_WT_167_rep1.hdf5',\n",
    "                  custom_objects={'mae_cor' : mae_cor, 'correlate' : correlate})"
   ]
  },
  {
   "cell_type": "code",
   "execution_count": null,
   "metadata": {},
   "outputs": [],
   "source": [
    "y_syn = model.predict(x_seq)\n",
    "plt.plot(y_syn)"
   ]
  },
  {
   "cell_type": "code",
   "execution_count": null,
   "metadata": {},
   "outputs": [],
   "source": []
  }
 ],
 "metadata": {
  "kernelspec": {
   "display_name": "Python 2",
   "language": "python",
   "name": "python2"
  },
  "language_info": {
   "codemirror_mode": {
    "name": "ipython",
    "version": 2
   },
   "file_extension": ".py",
   "mimetype": "text/x-python",
   "name": "python",
   "nbconvert_exporter": "python",
   "pygments_lexer": "ipython2",
   "version": "2.7.15"
  }
 },
 "nbformat": 4,
 "nbformat_minor": 2
}
